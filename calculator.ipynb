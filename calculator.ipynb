{
  "nbformat": 4,
  "nbformat_minor": 0,
  "metadata": {
    "colab": {
      "name": "calculator.ipynb",
      "provenance": [],
      "authorship_tag": "ABX9TyP9I6WbrzWI2J0woIXMlNKO"
    },
    "kernelspec": {
      "name": "python3",
      "display_name": "Python 3"
    },
    "language_info": {
      "name": "python"
    }
  },
  "cells": [
    {
      "cell_type": "markdown",
      "metadata": {
        "id": "_aZTZjUMYuWf"
      },
      "source": [
        "**calculator script**\n",
        "\n",
        "we are going to create a simple calculator to perform binary mathematical operations."
      ]
    },
    {
      "cell_type": "code",
      "metadata": {
        "id": "x4unFyK9ZMO4"
      },
      "source": [
        "def add(a,b) :\n",
        "  return a + b\n",
        "\n",
        "def sub(a,b) :\n",
        "  return a - b\n",
        "\n",
        "def multiply(a,b) :\n",
        "  return a * b\n",
        "\n",
        "def  divide(a,b) :\n",
        "  return a / b"
      ],
      "execution_count": 9,
      "outputs": []
    },
    {
      "cell_type": "code",
      "metadata": {
        "id": "MyXibQVzaSHj",
        "colab": {
          "base_uri": "https://localhost:8080/",
          "height": 129
        },
        "outputId": "a56e669c-13e0-4ed4-8059-081aebd02fca"
      },
      "source": [
        "def calc() :\n",
        "  is_running = True\n",
        "  result = 0\n",
        "  save = False\n",
        "\n",
        "  while is_running:\n",
        "    operation = input('Enter a mathematical operator (+, -, *, /) [PRESS Q TO QUIT]: ')\n",
        "\n",
        "    if operation == 'q' :\n",
        "      break\n",
        "\n",
        "    if not save:\n",
        "      op1 = float(input('Enter the first operand: '))\n",
        "    else:\n",
        "      op1 = result\n",
        "    op2 = float(input('Enter the first operand: '))\n",
        "    \n",
        "    if operation == ' + ' :\n",
        "      result = add(op1, op2)\n",
        "      print('the result is' , result)\n",
        "    elif operation == ' - ' :\n",
        "      result = sub(op1, op2)\n",
        "      print('the result is' , result)\n",
        "    elif operation == ' * ' :\n",
        "      result = multiply(op1, op2)\n",
        "      print('the result is' , result)\n",
        "    elif operation == ' / ' :\n",
        "     result = divide(op1, op2)\n",
        "     print('the result is' , result)\n",
        "   else :\n",
        "    print(operation, ' is not a valid operation ' )\n",
        "\n",
        "temp = input('would you like to save the previous value [y/n]? [press q to quit]: ')\n",
        "if temp == 'y' :\n",
        "  save = true\n",
        "elif temp == 'q' :\n",
        "  break\n",
        "else :\n",
        "  save = false\n",
        "  "
      ],
      "execution_count": 10,
      "outputs": [
        {
          "output_type": "error",
          "ename": "IndentationError",
          "evalue": "ignored",
          "traceback": [
            "\u001b[0;36m  File \u001b[0;32m\"<ipython-input-10-a913560542c4>\"\u001b[0;36m, line \u001b[0;32m30\u001b[0m\n\u001b[0;31m    else :\u001b[0m\n\u001b[0m          ^\u001b[0m\n\u001b[0;31mIndentationError\u001b[0m\u001b[0;31m:\u001b[0m unindent does not match any outer indentation level\n"
          ]
        }
      ]
    }
  ]
}